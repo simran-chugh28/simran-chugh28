{
 "cells": [
  {
   "cell_type": "markdown",
   "id": "ce31689e-c1c1-46da-b95c-1b23819e1723",
   "metadata": {},
   "source": [
    "### Importing the Libraries"
   ]
  },
  {
   "cell_type": "code",
   "execution_count": 2,
   "id": "6ca3dedc-a0ef-4351-9d61-c5b2f85d9890",
   "metadata": {},
   "outputs": [],
   "source": [
    "import pandas as pd\n",
    "from sqlalchemy import create_engine\n",
    "import seaborn as sns\n",
    "import matplotlib.pyplot as plt\n",
    "import scipy.stats as stats"
   ]
  },
  {
   "cell_type": "markdown",
   "id": "5c9909f7-54fd-47a3-9cf3-8b690750103f",
   "metadata": {},
   "source": [
    "### Extracting the data from the Tables"
   ]
  },
  {
   "cell_type": "code",
   "execution_count": 5,
   "id": "1d32ab06-cc2e-443c-b804-d3198d92eb55",
   "metadata": {},
   "outputs": [],
   "source": [
    "dbname = 'loan_management'\n",
    "user = 'postgres'\n",
    "password = 'simi280498'\n",
    "host = '127.0.0.1'\n",
    "port = '5432'"
   ]
  },
  {
   "cell_type": "code",
   "execution_count": 7,
   "id": "d40bbb39-e6d1-438a-8729-08ddd2b17244",
   "metadata": {},
   "outputs": [],
   "source": [
    "#Establishing the connection\n",
    "engine = create_engine(f'postgresql://{user}:{password}@{host}/{dbname}')"
   ]
  },
  {
   "cell_type": "code",
   "execution_count": 9,
   "id": "1428eec4-ad7e-47d8-ab20-b1eaf9dc0949",
   "metadata": {},
   "outputs": [],
   "source": [
    "# Define your SELECT query\n",
    "query = '''SELECT * FROM borrower as b \n",
    "         inner join loan_to_income as lti \n",
    "         on b.borrower_id = lti.borrower_id \n",
    "         inner join loan as l\n",
    "         on lti.loan_id = l.loan_id'''"
   ]
  },
  {
   "cell_type": "code",
   "execution_count": 11,
   "id": "4a4274d8-43e2-4a61-b3c5-8bc7feda2f19",
   "metadata": {},
   "outputs": [
    {
     "name": "stdout",
     "output_type": "stream",
     "text": [
      "Data loaded successfully!\n"
     ]
    }
   ],
   "source": [
    "df = pd.read_sql_query(query, engine)\n",
    "print(\"Data loaded successfully!\")"
   ]
  },
  {
   "cell_type": "code",
   "execution_count": 12,
   "id": "0595088d-c167-45d7-a404-7be90f6a80a5",
   "metadata": {},
   "outputs": [
    {
     "data": {
      "text/html": [
       "<div>\n",
       "<style scoped>\n",
       "    .dataframe tbody tr th:only-of-type {\n",
       "        vertical-align: middle;\n",
       "    }\n",
       "\n",
       "    .dataframe tbody tr th {\n",
       "        vertical-align: top;\n",
       "    }\n",
       "\n",
       "    .dataframe thead th {\n",
       "        text-align: right;\n",
       "    }\n",
       "</style>\n",
       "<table border=\"1\" class=\"dataframe\">\n",
       "  <thead>\n",
       "    <tr style=\"text-align: right;\">\n",
       "      <th></th>\n",
       "      <th>borrower_id</th>\n",
       "      <th>age</th>\n",
       "      <th>income</th>\n",
       "      <th>credit_score</th>\n",
       "      <th>months_employed</th>\n",
       "      <th>num_credit_lines</th>\n",
       "      <th>dti_ratio</th>\n",
       "      <th>education</th>\n",
       "      <th>employment_type</th>\n",
       "      <th>marital_status</th>\n",
       "      <th>...</th>\n",
       "      <th>has_cosigner</th>\n",
       "      <th>loan_id</th>\n",
       "      <th>borrower_id</th>\n",
       "      <th>loan_amount_to_income</th>\n",
       "      <th>loan_id</th>\n",
       "      <th>loan_amount</th>\n",
       "      <th>interest_rate</th>\n",
       "      <th>loan_term</th>\n",
       "      <th>loan_purpose</th>\n",
       "      <th>defaulter</th>\n",
       "    </tr>\n",
       "  </thead>\n",
       "  <tbody>\n",
       "    <tr>\n",
       "      <th>0</th>\n",
       "      <td>BZOPZLF57NR</td>\n",
       "      <td>67</td>\n",
       "      <td>77135</td>\n",
       "      <td>529</td>\n",
       "      <td>59</td>\n",
       "      <td>4</td>\n",
       "      <td>0.41</td>\n",
       "      <td>High School</td>\n",
       "      <td>Full-time</td>\n",
       "      <td>Married</td>\n",
       "      <td>...</td>\n",
       "      <td>0</td>\n",
       "      <td>ZOPZLF57NR</td>\n",
       "      <td>BZOPZLF57NR</td>\n",
       "      <td>2.072198</td>\n",
       "      <td>ZOPZLF57NR</td>\n",
       "      <td>159839</td>\n",
       "      <td>4.14</td>\n",
       "      <td>36</td>\n",
       "      <td>Other</td>\n",
       "      <td>0</td>\n",
       "    </tr>\n",
       "    <tr>\n",
       "      <th>1</th>\n",
       "      <td>B648L7QUFVO</td>\n",
       "      <td>57</td>\n",
       "      <td>34830</td>\n",
       "      <td>416</td>\n",
       "      <td>93</td>\n",
       "      <td>3</td>\n",
       "      <td>0.45</td>\n",
       "      <td>Bachelor's</td>\n",
       "      <td>Unemployed</td>\n",
       "      <td>Married</td>\n",
       "      <td>...</td>\n",
       "      <td>0</td>\n",
       "      <td>648L7QUFVO</td>\n",
       "      <td>B648L7QUFVO</td>\n",
       "      <td>1.810853</td>\n",
       "      <td>648L7QUFVO</td>\n",
       "      <td>63072</td>\n",
       "      <td>20.34</td>\n",
       "      <td>60</td>\n",
       "      <td>Home</td>\n",
       "      <td>0</td>\n",
       "    </tr>\n",
       "    <tr>\n",
       "      <th>2</th>\n",
       "      <td>BZY51VR44DK</td>\n",
       "      <td>21</td>\n",
       "      <td>142860</td>\n",
       "      <td>318</td>\n",
       "      <td>35</td>\n",
       "      <td>3</td>\n",
       "      <td>0.36</td>\n",
       "      <td>High School</td>\n",
       "      <td>Part-time</td>\n",
       "      <td>Married</td>\n",
       "      <td>...</td>\n",
       "      <td>1</td>\n",
       "      <td>ZY51VR44DK</td>\n",
       "      <td>BZY51VR44DK</td>\n",
       "      <td>1.670993</td>\n",
       "      <td>ZY51VR44DK</td>\n",
       "      <td>238718</td>\n",
       "      <td>13.06</td>\n",
       "      <td>48</td>\n",
       "      <td>Business</td>\n",
       "      <td>0</td>\n",
       "    </tr>\n",
       "    <tr>\n",
       "      <th>3</th>\n",
       "      <td>BR8P5YIW07D</td>\n",
       "      <td>19</td>\n",
       "      <td>20236</td>\n",
       "      <td>411</td>\n",
       "      <td>66</td>\n",
       "      <td>4</td>\n",
       "      <td>0.30</td>\n",
       "      <td>Bachelor's</td>\n",
       "      <td>Self-employed</td>\n",
       "      <td>Divorced</td>\n",
       "      <td>...</td>\n",
       "      <td>0</td>\n",
       "      <td>R8P5YIW07D</td>\n",
       "      <td>BR8P5YIW07D</td>\n",
       "      <td>8.158035</td>\n",
       "      <td>R8P5YIW07D</td>\n",
       "      <td>165086</td>\n",
       "      <td>11.49</td>\n",
       "      <td>60</td>\n",
       "      <td>Education</td>\n",
       "      <td>0</td>\n",
       "    </tr>\n",
       "    <tr>\n",
       "      <th>4</th>\n",
       "      <td>BMZRL2WMB52</td>\n",
       "      <td>23</td>\n",
       "      <td>17142</td>\n",
       "      <td>802</td>\n",
       "      <td>56</td>\n",
       "      <td>3</td>\n",
       "      <td>0.71</td>\n",
       "      <td>High School</td>\n",
       "      <td>Full-time</td>\n",
       "      <td>Married</td>\n",
       "      <td>...</td>\n",
       "      <td>1</td>\n",
       "      <td>MZRL2WMB52</td>\n",
       "      <td>BMZRL2WMB52</td>\n",
       "      <td>6.444347</td>\n",
       "      <td>MZRL2WMB52</td>\n",
       "      <td>110469</td>\n",
       "      <td>12.23</td>\n",
       "      <td>12</td>\n",
       "      <td>Auto</td>\n",
       "      <td>0</td>\n",
       "    </tr>\n",
       "  </tbody>\n",
       "</table>\n",
       "<p>5 rows × 23 columns</p>\n",
       "</div>"
      ],
      "text/plain": [
       "   borrower_id  age  income  credit_score  months_employed  num_credit_lines  \\\n",
       "0  BZOPZLF57NR   67   77135           529               59                 4   \n",
       "1  B648L7QUFVO   57   34830           416               93                 3   \n",
       "2  BZY51VR44DK   21  142860           318               35                 3   \n",
       "3  BR8P5YIW07D   19   20236           411               66                 4   \n",
       "4  BMZRL2WMB52   23   17142           802               56                 3   \n",
       "\n",
       "   dti_ratio    education employment_type marital_status  ...  has_cosigner  \\\n",
       "0       0.41  High School       Full-time        Married  ...             0   \n",
       "1       0.45   Bachelor's      Unemployed        Married  ...             0   \n",
       "2       0.36  High School       Part-time        Married  ...             1   \n",
       "3       0.30   Bachelor's   Self-employed       Divorced  ...             0   \n",
       "4       0.71  High School       Full-time        Married  ...             1   \n",
       "\n",
       "      loan_id  borrower_id  loan_amount_to_income     loan_id loan_amount  \\\n",
       "0  ZOPZLF57NR  BZOPZLF57NR               2.072198  ZOPZLF57NR      159839   \n",
       "1  648L7QUFVO  B648L7QUFVO               1.810853  648L7QUFVO       63072   \n",
       "2  ZY51VR44DK  BZY51VR44DK               1.670993  ZY51VR44DK      238718   \n",
       "3  R8P5YIW07D  BR8P5YIW07D               8.158035  R8P5YIW07D      165086   \n",
       "4  MZRL2WMB52  BMZRL2WMB52               6.444347  MZRL2WMB52      110469   \n",
       "\n",
       "   interest_rate loan_term  loan_purpose  defaulter  \n",
       "0           4.14        36         Other          0  \n",
       "1          20.34        60          Home          0  \n",
       "2          13.06        48      Business          0  \n",
       "3          11.49        60     Education          0  \n",
       "4          12.23        12          Auto          0  \n",
       "\n",
       "[5 rows x 23 columns]"
      ]
     },
     "execution_count": 12,
     "metadata": {},
     "output_type": "execute_result"
    }
   ],
   "source": [
    "df.head()"
   ]
  },
  {
   "cell_type": "code",
   "execution_count": 13,
   "id": "66792176-516b-4980-9fe2-6719ed9c4c31",
   "metadata": {},
   "outputs": [],
   "source": [
    "engine.dispose()"
   ]
  },
  {
   "cell_type": "code",
   "execution_count": 14,
   "id": "9589f935-b433-499a-8097-98ebb6b26728",
   "metadata": {},
   "outputs": [
    {
     "data": {
      "text/plain": [
       "(255347, 23)"
      ]
     },
     "execution_count": 14,
     "metadata": {},
     "output_type": "execute_result"
    }
   ],
   "source": [
    "df.shape"
   ]
  },
  {
   "cell_type": "code",
   "execution_count": 19,
   "id": "13ed6b38-0a16-4218-844f-bd20b25cc52b",
   "metadata": {},
   "outputs": [],
   "source": [
    "#dropping columns which are not required\n",
    "df = df.drop(['borrower_id', 'loan_id'], axis=1)"
   ]
  },
  {
   "cell_type": "code",
   "execution_count": 21,
   "id": "18447507-931f-470c-b6e4-6385efd86b32",
   "metadata": {},
   "outputs": [
    {
     "data": {
      "text/html": [
       "<div>\n",
       "<style scoped>\n",
       "    .dataframe tbody tr th:only-of-type {\n",
       "        vertical-align: middle;\n",
       "    }\n",
       "\n",
       "    .dataframe tbody tr th {\n",
       "        vertical-align: top;\n",
       "    }\n",
       "\n",
       "    .dataframe thead th {\n",
       "        text-align: right;\n",
       "    }\n",
       "</style>\n",
       "<table border=\"1\" class=\"dataframe\">\n",
       "  <thead>\n",
       "    <tr style=\"text-align: right;\">\n",
       "      <th></th>\n",
       "      <th>age</th>\n",
       "      <th>income</th>\n",
       "      <th>credit_score</th>\n",
       "      <th>months_employed</th>\n",
       "      <th>num_credit_lines</th>\n",
       "      <th>dti_ratio</th>\n",
       "      <th>education</th>\n",
       "      <th>employment_type</th>\n",
       "      <th>marital_status</th>\n",
       "      <th>income_per_credit_line</th>\n",
       "      <th>has_mortgage</th>\n",
       "      <th>has_dependents</th>\n",
       "      <th>has_cosigner</th>\n",
       "      <th>loan_amount_to_income</th>\n",
       "      <th>loan_amount</th>\n",
       "      <th>interest_rate</th>\n",
       "      <th>loan_term</th>\n",
       "      <th>loan_purpose</th>\n",
       "      <th>defaulter</th>\n",
       "    </tr>\n",
       "  </thead>\n",
       "  <tbody>\n",
       "    <tr>\n",
       "      <th>0</th>\n",
       "      <td>67</td>\n",
       "      <td>77135</td>\n",
       "      <td>529</td>\n",
       "      <td>59</td>\n",
       "      <td>4</td>\n",
       "      <td>0.41</td>\n",
       "      <td>High School</td>\n",
       "      <td>Full-time</td>\n",
       "      <td>Married</td>\n",
       "      <td>19283.75</td>\n",
       "      <td>1</td>\n",
       "      <td>1</td>\n",
       "      <td>0</td>\n",
       "      <td>2.072198</td>\n",
       "      <td>159839</td>\n",
       "      <td>4.14</td>\n",
       "      <td>36</td>\n",
       "      <td>Other</td>\n",
       "      <td>0</td>\n",
       "    </tr>\n",
       "    <tr>\n",
       "      <th>1</th>\n",
       "      <td>57</td>\n",
       "      <td>34830</td>\n",
       "      <td>416</td>\n",
       "      <td>93</td>\n",
       "      <td>3</td>\n",
       "      <td>0.45</td>\n",
       "      <td>Bachelor's</td>\n",
       "      <td>Unemployed</td>\n",
       "      <td>Married</td>\n",
       "      <td>11610.00</td>\n",
       "      <td>0</td>\n",
       "      <td>0</td>\n",
       "      <td>0</td>\n",
       "      <td>1.810853</td>\n",
       "      <td>63072</td>\n",
       "      <td>20.34</td>\n",
       "      <td>60</td>\n",
       "      <td>Home</td>\n",
       "      <td>0</td>\n",
       "    </tr>\n",
       "    <tr>\n",
       "      <th>2</th>\n",
       "      <td>21</td>\n",
       "      <td>142860</td>\n",
       "      <td>318</td>\n",
       "      <td>35</td>\n",
       "      <td>3</td>\n",
       "      <td>0.36</td>\n",
       "      <td>High School</td>\n",
       "      <td>Part-time</td>\n",
       "      <td>Married</td>\n",
       "      <td>47620.00</td>\n",
       "      <td>0</td>\n",
       "      <td>1</td>\n",
       "      <td>1</td>\n",
       "      <td>1.670993</td>\n",
       "      <td>238718</td>\n",
       "      <td>13.06</td>\n",
       "      <td>48</td>\n",
       "      <td>Business</td>\n",
       "      <td>0</td>\n",
       "    </tr>\n",
       "    <tr>\n",
       "      <th>3</th>\n",
       "      <td>19</td>\n",
       "      <td>20236</td>\n",
       "      <td>411</td>\n",
       "      <td>66</td>\n",
       "      <td>4</td>\n",
       "      <td>0.30</td>\n",
       "      <td>Bachelor's</td>\n",
       "      <td>Self-employed</td>\n",
       "      <td>Divorced</td>\n",
       "      <td>5059.00</td>\n",
       "      <td>0</td>\n",
       "      <td>1</td>\n",
       "      <td>0</td>\n",
       "      <td>8.158035</td>\n",
       "      <td>165086</td>\n",
       "      <td>11.49</td>\n",
       "      <td>60</td>\n",
       "      <td>Education</td>\n",
       "      <td>0</td>\n",
       "    </tr>\n",
       "    <tr>\n",
       "      <th>4</th>\n",
       "      <td>23</td>\n",
       "      <td>17142</td>\n",
       "      <td>802</td>\n",
       "      <td>56</td>\n",
       "      <td>3</td>\n",
       "      <td>0.71</td>\n",
       "      <td>High School</td>\n",
       "      <td>Full-time</td>\n",
       "      <td>Married</td>\n",
       "      <td>5714.00</td>\n",
       "      <td>1</td>\n",
       "      <td>1</td>\n",
       "      <td>1</td>\n",
       "      <td>6.444347</td>\n",
       "      <td>110469</td>\n",
       "      <td>12.23</td>\n",
       "      <td>12</td>\n",
       "      <td>Auto</td>\n",
       "      <td>0</td>\n",
       "    </tr>\n",
       "  </tbody>\n",
       "</table>\n",
       "</div>"
      ],
      "text/plain": [
       "   age  income  credit_score  months_employed  num_credit_lines  dti_ratio  \\\n",
       "0   67   77135           529               59                 4       0.41   \n",
       "1   57   34830           416               93                 3       0.45   \n",
       "2   21  142860           318               35                 3       0.36   \n",
       "3   19   20236           411               66                 4       0.30   \n",
       "4   23   17142           802               56                 3       0.71   \n",
       "\n",
       "     education employment_type marital_status  income_per_credit_line  \\\n",
       "0  High School       Full-time        Married                19283.75   \n",
       "1   Bachelor's      Unemployed        Married                11610.00   \n",
       "2  High School       Part-time        Married                47620.00   \n",
       "3   Bachelor's   Self-employed       Divorced                 5059.00   \n",
       "4  High School       Full-time        Married                 5714.00   \n",
       "\n",
       "   has_mortgage  has_dependents  has_cosigner  loan_amount_to_income  \\\n",
       "0             1               1             0               2.072198   \n",
       "1             0               0             0               1.810853   \n",
       "2             0               1             1               1.670993   \n",
       "3             0               1             0               8.158035   \n",
       "4             1               1             1               6.444347   \n",
       "\n",
       "   loan_amount  interest_rate  loan_term loan_purpose  defaulter  \n",
       "0       159839           4.14         36        Other          0  \n",
       "1        63072          20.34         60         Home          0  \n",
       "2       238718          13.06         48     Business          0  \n",
       "3       165086          11.49         60    Education          0  \n",
       "4       110469          12.23         12         Auto          0  "
      ]
     },
     "execution_count": 21,
     "metadata": {},
     "output_type": "execute_result"
    }
   ],
   "source": [
    "df.head()"
   ]
  },
  {
   "cell_type": "code",
   "execution_count": 23,
   "id": "517bfe56-437a-44c3-9ef0-6c83e1f0345f",
   "metadata": {},
   "outputs": [
    {
     "data": {
      "text/plain": [
       "(255347, 19)"
      ]
     },
     "execution_count": 23,
     "metadata": {},
     "output_type": "execute_result"
    }
   ],
   "source": [
    "df.shape"
   ]
  },
  {
   "cell_type": "code",
   "execution_count": 25,
   "id": "766ff7f5-34bb-4216-8cc7-535d2230af98",
   "metadata": {},
   "outputs": [],
   "source": [
    "# Taking 25K samples from the data for hypothesis testing\n",
    "df= df.sample(n=25000, random_state=42, replace=True).copy()"
   ]
  },
  {
   "cell_type": "markdown",
   "id": "3bafbfad-aaa5-4832-b478-6c36cc75ece8",
   "metadata": {},
   "source": [
    "### 1. Null Hypothesis - There is no significant difference in Income between the two default groups."
   ]
  },
  {
   "cell_type": "code",
   "execution_count": 28,
   "id": "6ff1ab19-8cce-4ead-b62a-fafff0bc2337",
   "metadata": {},
   "outputs": [],
   "source": [
    "default_group = df[df['defaulter'] == 1]['income']\n",
    "no_default_group = df[df['defaulter'] == 0]['income']"
   ]
  },
  {
   "cell_type": "code",
   "execution_count": 30,
   "id": "9b2f8c6a-7830-4eaa-bd67-da506fcf82ae",
   "metadata": {},
   "outputs": [],
   "source": [
    "t_stat, p_value = stats.ttest_ind(default_group, no_default_group)"
   ]
  },
  {
   "cell_type": "code",
   "execution_count": 32,
   "id": "d40be05d-efc3-4ecf-b3fd-3d0362bfb42e",
   "metadata": {},
   "outputs": [
    {
     "name": "stdout",
     "output_type": "stream",
     "text": [
      "Hypothesis 1: Income and Default Status\n",
      "T-statistic: -17.46104596584434, P-value: 7.1771991878512575e-68\n",
      "Reject the Null Hypothesis: There is a significant difference in Income between the two groups.\n"
     ]
    }
   ],
   "source": [
    "print(\"Hypothesis 1: Income and Default Status\")\n",
    "print(f\"T-statistic: {t_stat}, P-value: {p_value}\")\n",
    "if p_value < 0.05:\n",
    "    print(\"Reject the Null Hypothesis: There is a significant difference in Income between the two groups.\")\n",
    "else:\n",
    "    print(\"Fail to Reject the Null Hypothesis: There is no significant difference in Income between the two groups.\")"
   ]
  },
  {
   "cell_type": "markdown",
   "id": "65919485-6cad-49eb-b982-35731e1cb55c",
   "metadata": {},
   "source": [
    "### 2. Null Hypothesis - There is no significant difference in Age between the two default groups."
   ]
  },
  {
   "cell_type": "code",
   "execution_count": 35,
   "id": "18b39654-c4b8-4895-ae02-39bd18bbd84a",
   "metadata": {},
   "outputs": [],
   "source": [
    "default_group = df[df['defaulter'] == 1]['age']\n",
    "no_default_group = df[df['defaulter'] == 0]['age']"
   ]
  },
  {
   "cell_type": "code",
   "execution_count": 37,
   "id": "8e3634f7-e13d-46b2-afb9-4e002ac68406",
   "metadata": {},
   "outputs": [],
   "source": [
    "t_stat, p_value = stats.ttest_ind(default_group, no_default_group)"
   ]
  },
  {
   "cell_type": "code",
   "execution_count": 39,
   "id": "2fdfcfa1-58f1-4dbb-9025-c29215e03436",
   "metadata": {},
   "outputs": [
    {
     "name": "stdout",
     "output_type": "stream",
     "text": [
      "Hypothesis 2: Age and Default Status\n",
      "T-statistic: -27.667954386200247, P-value: 5.3796668954208473e-166\n",
      "Reject the Null Hypothesis: There is a significant difference in Age between the two groups.\n"
     ]
    }
   ],
   "source": [
    "print(\"Hypothesis 2: Age and Default Status\")\n",
    "print(f\"T-statistic: {t_stat}, P-value: {p_value}\")\n",
    "if p_value < 0.05:\n",
    "    print(\"Reject the Null Hypothesis: There is a significant difference in Age between the two groups.\")\n",
    "else:\n",
    "    print(\"Fail to Reject the Null Hypothesis: There is no significant difference in Age between the two groups.\")"
   ]
  },
  {
   "cell_type": "markdown",
   "id": "161d46af-de42-4be2-ae74-12cc11bc4cfe",
   "metadata": {},
   "source": [
    "### 3. Null Hypothesis - There is no significant difference in Credit Score between the two default groups."
   ]
  },
  {
   "cell_type": "code",
   "execution_count": 42,
   "id": "165af486-8b03-4e3a-ba4a-a23c91294856",
   "metadata": {},
   "outputs": [],
   "source": [
    "default_group = df[df['defaulter'] == 1]['credit_score']\n",
    "no_default_group = df[df['defaulter'] == 0]['credit_score']"
   ]
  },
  {
   "cell_type": "code",
   "execution_count": 44,
   "id": "8aadfc83-f48f-4187-a25c-423d5f391483",
   "metadata": {},
   "outputs": [],
   "source": [
    "t_stat, p_value = stats.ttest_ind(default_group, no_default_group)"
   ]
  },
  {
   "cell_type": "code",
   "execution_count": 46,
   "id": "26976bd5-de72-4638-a876-825f452edf6f",
   "metadata": {},
   "outputs": [
    {
     "name": "stdout",
     "output_type": "stream",
     "text": [
      "Hypothesis 3: Credit Score and Default Status\n",
      "T-statistic: -5.496275417455252, P-value: 3.916834058584063e-08\n",
      "Reject the Null Hypothesis: There is a significant difference in Credit Score between the two groups.\n"
     ]
    }
   ],
   "source": [
    "print(\"Hypothesis 3: Credit Score and Default Status\")\n",
    "print(f\"T-statistic: {t_stat}, P-value: {p_value}\")\n",
    "if p_value < 0.05:\n",
    "    print(\"Reject the Null Hypothesis: There is a significant difference in Credit Score between the two groups.\")\n",
    "else:\n",
    "    print(\"Fail to Reject the Null Hypothesis: There is no significant difference in Credit Score between the two groups.\")"
   ]
  },
  {
   "cell_type": "markdown",
   "id": "81ca5da7-37b6-46ff-a00a-f1ac66429af1",
   "metadata": {},
   "source": [
    "### 4. Null Hypothesis - There is no significant difference in Months Employed between the two default groups."
   ]
  },
  {
   "cell_type": "code",
   "execution_count": 49,
   "id": "25106ccd-7154-444c-9f5e-a8bbb49c6829",
   "metadata": {},
   "outputs": [],
   "source": [
    "default_group = df[df['defaulter'] == 1]['months_employed']\n",
    "no_default_group = df[df['defaulter'] == 0]['months_employed']"
   ]
  },
  {
   "cell_type": "code",
   "execution_count": 51,
   "id": "8832c5b3-945c-4253-95fe-f9c20970fe62",
   "metadata": {},
   "outputs": [],
   "source": [
    "t_stat, p_value = stats.ttest_ind(default_group, no_default_group)"
   ]
  },
  {
   "cell_type": "code",
   "execution_count": 53,
   "id": "a39415b9-d90e-4b4d-94d1-3e85835cb3a6",
   "metadata": {},
   "outputs": [
    {
     "name": "stdout",
     "output_type": "stream",
     "text": [
      "Hypothesis 4: Months Employed and Default Status\n",
      "T-statistic: -16.153670819881178, P-value: 2.1150902025915106e-58\n",
      "Reject the Null Hypothesis: There is a significant difference in Months Employed between the two groups.\n"
     ]
    }
   ],
   "source": [
    "print(\"Hypothesis 4: Months Employed and Default Status\")\n",
    "print(f\"T-statistic: {t_stat}, P-value: {p_value}\")\n",
    "if p_value < 0.05:\n",
    "    print(\"Reject the Null Hypothesis: There is a significant difference in Months Employed between the two groups.\")\n",
    "else:\n",
    "    print(\"Fail to Reject the Null Hypothesis: There is no significant difference in Months Employed between the two groups.\")"
   ]
  },
  {
   "cell_type": "markdown",
   "id": "40c96b72-f40a-496f-bce0-5c81903d5d3c",
   "metadata": {},
   "source": [
    "### 5. Null Hypothesis - There is no significant difference in Loan amount between the two default groups"
   ]
  },
  {
   "cell_type": "code",
   "execution_count": 56,
   "id": "ff7c715e-66c9-4bfd-8b4d-a5ea37ee27cd",
   "metadata": {},
   "outputs": [],
   "source": [
    "default_group = df[df['defaulter'] == 1]['loan_amount']\n",
    "no_default_group = df[df['defaulter'] == 0]['loan_amount']"
   ]
  },
  {
   "cell_type": "code",
   "execution_count": 58,
   "id": "b345d505-f849-486b-bc0e-6760d2298404",
   "metadata": {},
   "outputs": [],
   "source": [
    "t_stat, p_value = stats.ttest_ind(default_group, no_default_group)"
   ]
  },
  {
   "cell_type": "code",
   "execution_count": 60,
   "id": "d17efc08-d5bc-45c2-9f3e-5f8023c32c0b",
   "metadata": {},
   "outputs": [
    {
     "name": "stdout",
     "output_type": "stream",
     "text": [
      "Hypothesis 5: Loan Amount and Default Status\n",
      "T-statistic: 15.091082597204297, P-value: 3.1183675041166574e-51\n",
      "Reject the Null Hypothesis: There is a significant difference in Loan Amount between the two groups.\n"
     ]
    }
   ],
   "source": [
    "print(\"Hypothesis 5: Loan Amount and Default Status\")\n",
    "print(f\"T-statistic: {t_stat}, P-value: {p_value}\")\n",
    "if p_value < 0.05:\n",
    "    print(\"Reject the Null Hypothesis: There is a significant difference in Loan Amount between the two groups.\")\n",
    "else:\n",
    "    print(\"Fail to Reject the Null Hypothesis: There is no significant difference in Loan Amount between the two groups.\")"
   ]
  },
  {
   "cell_type": "markdown",
   "id": "1628a5c9-5a9b-4e86-89b6-17a6803b5ef5",
   "metadata": {},
   "source": [
    "### 6. Null Hypothesis - There is no significant difference in Interest Rate between the two default groups"
   ]
  },
  {
   "cell_type": "code",
   "execution_count": 63,
   "id": "faf0ce1f-bd58-46b2-84e9-d7896d76f35c",
   "metadata": {},
   "outputs": [],
   "source": [
    "default_group = df[df['defaulter'] == 1]['interest_rate']\n",
    "no_default_group = df[df['defaulter'] == 0]['interest_rate']"
   ]
  },
  {
   "cell_type": "code",
   "execution_count": 65,
   "id": "ced3e5d4-d095-4914-bbda-7e856dbae3e4",
   "metadata": {},
   "outputs": [],
   "source": [
    "t_stat, p_value = stats.ttest_ind(default_group, no_default_group)"
   ]
  },
  {
   "cell_type": "code",
   "execution_count": 67,
   "id": "17f6e836-30ea-4316-9aea-6e148c773677",
   "metadata": {},
   "outputs": [
    {
     "name": "stdout",
     "output_type": "stream",
     "text": [
      "Hypothesis 6: Number of Interest Rate and Default Status\n",
      "T-statistic: 20.7553817388394, P-value: 6.92501174334232e-95\n",
      "Reject the Null Hypothesis: There is a significant difference in Interest Rate between the two groups.\n"
     ]
    }
   ],
   "source": [
    "print(\"Hypothesis 6: Number of Interest Rate and Default Status\")\n",
    "print(f\"T-statistic: {t_stat}, P-value: {p_value}\")\n",
    "if p_value < 0.05:\n",
    "    print(\"Reject the Null Hypothesis: There is a significant difference in Interest Rate between the two groups.\")\n",
    "else:\n",
    "    print(\"Fail to Reject the Null Hypothesis: There is no significant difference in Interest Rate between the two groups.\")"
   ]
  },
  {
   "cell_type": "code",
   "execution_count": null,
   "id": "287b5ed2-e283-47c9-bc24-eaf0f1f8c290",
   "metadata": {},
   "outputs": [],
   "source": []
  }
 ],
 "metadata": {
  "kernelspec": {
   "display_name": "Python 3 (ipykernel)",
   "language": "python",
   "name": "python3"
  },
  "language_info": {
   "codemirror_mode": {
    "name": "ipython",
    "version": 3
   },
   "file_extension": ".py",
   "mimetype": "text/x-python",
   "name": "python",
   "nbconvert_exporter": "python",
   "pygments_lexer": "ipython3",
   "version": "3.12.4"
  }
 },
 "nbformat": 4,
 "nbformat_minor": 5
}
