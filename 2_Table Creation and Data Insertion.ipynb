{
 "cells": [
  {
   "cell_type": "markdown",
   "id": "7836981b",
   "metadata": {},
   "source": [
    "### Installing PostgreSQL"
   ]
  },
  {
   "cell_type": "code",
   "execution_count": 2,
   "id": "950fdf26",
   "metadata": {},
   "outputs": [
    {
     "name": "stdout",
     "output_type": "stream",
     "text": [
      "Requirement already satisfied: psycopg2-binary in /opt/anaconda3/lib/python3.12/site-packages (2.9.9)\n",
      "Note: you may need to restart the kernel to use updated packages.\n"
     ]
    }
   ],
   "source": [
    "pip install psycopg2-binary"
   ]
  },
  {
   "cell_type": "markdown",
   "id": "80e1b17a",
   "metadata": {},
   "source": [
    "### Importing PostgreSQL Library"
   ]
  },
  {
   "cell_type": "code",
   "execution_count": 5,
   "id": "a8b40e97",
   "metadata": {},
   "outputs": [],
   "source": [
    "import psycopg2\n",
    "from sqlalchemy import create_engine\n",
    "import pandas as pd"
   ]
  },
  {
   "cell_type": "markdown",
   "id": "9ec4d6a1",
   "metadata": {},
   "source": [
    "### Database Creation"
   ]
  },
  {
   "cell_type": "code",
   "execution_count": 8,
   "id": "d87a7f5c",
   "metadata": {},
   "outputs": [],
   "source": [
    "#establishing the connection\n",
    "conn = psycopg2.connect(\n",
    "   database=\"postgres\", user='postgres', password='simi280498', host='127.0.0.1', port= '5432'\n",
    ")\n",
    "conn.autocommit = True"
   ]
  },
  {
   "cell_type": "code",
   "execution_count": 10,
   "id": "2e000dc9",
   "metadata": {},
   "outputs": [],
   "source": [
    "#Creating a cursor object using the cursor() method\n",
    "cursor = conn.cursor()"
   ]
  },
  {
   "cell_type": "code",
   "execution_count": 12,
   "id": "3007b8d6",
   "metadata": {},
   "outputs": [],
   "source": [
    "#Droping database if already exists.\n",
    "cursor.execute(\"DROP DATABASE IF EXISTS loan_management\")"
   ]
  },
  {
   "cell_type": "code",
   "execution_count": 14,
   "id": "0ea112e9",
   "metadata": {},
   "outputs": [],
   "source": [
    "#Preparing query to create a database\n",
    "sql = '''CREATE database loan_management''';"
   ]
  },
  {
   "cell_type": "code",
   "execution_count": 16,
   "id": "9ab14cd3",
   "metadata": {},
   "outputs": [
    {
     "name": "stdout",
     "output_type": "stream",
     "text": [
      "Database created successfully........\n"
     ]
    }
   ],
   "source": [
    "#Creating a database\n",
    "cursor.execute(sql)\n",
    "print(\"Database created successfully........\")"
   ]
  },
  {
   "cell_type": "code",
   "execution_count": 18,
   "id": "26ef1dc1",
   "metadata": {},
   "outputs": [],
   "source": [
    "#Closing the connection\n",
    "conn.close()"
   ]
  },
  {
   "cell_type": "markdown",
   "id": "6f1dacc3",
   "metadata": {},
   "source": [
    "### Table Creation"
   ]
  },
  {
   "cell_type": "code",
   "execution_count": 21,
   "id": "1332d6b8",
   "metadata": {},
   "outputs": [],
   "source": [
    "#Establishing the connection\n",
    "conn = psycopg2.connect(\n",
    "   database=\"loan_management\", user='postgres', password='simi280498', host='127.0.0.1', port= '5432'\n",
    ")\n",
    "conn.autocommit = True"
   ]
  },
  {
   "cell_type": "code",
   "execution_count": 23,
   "id": "136afa31",
   "metadata": {},
   "outputs": [],
   "source": [
    "#Creating a cursor object using the cursor() method\n",
    "cursor = conn.cursor()"
   ]
  },
  {
   "cell_type": "code",
   "execution_count": 25,
   "id": "33410bdc",
   "metadata": {},
   "outputs": [],
   "source": [
    "#Droping BORROWER table if already exists.\n",
    "cursor.execute(\"DROP TABLE IF EXISTS borrower\")"
   ]
  },
  {
   "cell_type": "code",
   "execution_count": 27,
   "id": "2635c66a",
   "metadata": {},
   "outputs": [],
   "source": [
    "#Preparaing query to create BORROWER table\n",
    "sql ='''CREATE TABLE borrower(\n",
    "   borrower_id CHAR(11) PRIMARY KEY,\n",
    "   age INT CHECK(age >= 18 AND age <= 70) NOT NULL,\n",
    "   income INT CHECK(income >= 0) NOT NULL,\n",
    "   credit_score INT CHECK(credit_score >= 300 AND credit_score <= 850) NOT NULL,\n",
    "   months_employed INT CHECK(months_employed >= 0) NOT NULL,\n",
    "   num_credit_lines INT CHECK(num_credit_lines > 0 AND num_credit_lines <= 4) NOT NULL,\n",
    "   dti_ratio FLOAT CHECK(dti_ratio > 0 AND dti_ratio < 1) NOT NULL,\n",
    "   education VARCHAR(30) CHECK(education IN ('Bachelor''s', 'Master''s', 'High School', 'PhD')) NOT NULL,\n",
    "   employment_type VARCHAR(40) CHECK(employment_type IN ('Full-time', 'Unemployed', 'Self-employed', 'Part-time')) NOT NULL,\n",
    "   marital_status VARCHAR(30) CHECK(marital_status IN ('Divorced', 'Married', 'Single')) NOT NULL,\n",
    "   income_per_credit_line FLOAT CHECK (income_per_credit_line > 0) NOT NULL,\n",
    "   has_mortgage INT CHECK(has_mortgage IN (0,1)) NOT NULL,\n",
    "   has_dependents INT CHECK(has_dependents IN (0,1)) NOT NULL,\n",
    "   has_cosigner INT CHECK(has_cosigner IN (0,1)) NOT NULL\n",
    ")'''"
   ]
  },
  {
   "cell_type": "code",
   "execution_count": 29,
   "id": "4cf269a2",
   "metadata": {},
   "outputs": [
    {
     "name": "stdout",
     "output_type": "stream",
     "text": [
      "Table created successfully........\n"
     ]
    }
   ],
   "source": [
    "#Creating BORROWER table\n",
    "cursor.execute(sql)\n",
    "print(\"Table created successfully........\")"
   ]
  },
  {
   "cell_type": "code",
   "execution_count": 31,
   "id": "5344bc53",
   "metadata": {},
   "outputs": [],
   "source": [
    "#Droping LOAN table if already exists.\n",
    "cursor.execute(\"DROP TABLE IF EXISTS loan\")"
   ]
  },
  {
   "cell_type": "code",
   "execution_count": 33,
   "id": "1c76fe9b",
   "metadata": {},
   "outputs": [],
   "source": [
    "#Preparaing query to create LOAN table\n",
    "sql ='''CREATE TABLE loan(\n",
    "   loan_id CHAR(10) PRIMARY KEY,\n",
    "   loan_amount INT CHECK(loan_amount > 0) NOT NULL,\n",
    "   interest_rate DECIMAL(4,2) CHECK(interest_rate > 0) NOT NULL,\n",
    "   loan_term INT CHECK(loan_term > 0 AND loan_term % 12 = 0) NOT NULL,\n",
    "   loan_purpose VARCHAR(40) CHECK(loan_purpose IN ('Other', 'Auto', 'Business', 'Home', 'Education')) NOT NULL,\n",
    "   defaulter INT CHECK(defaulter IN (0,1)) NOT NULL\n",
    ")'''"
   ]
  },
  {
   "cell_type": "code",
   "execution_count": 35,
   "id": "74519d38",
   "metadata": {},
   "outputs": [
    {
     "name": "stdout",
     "output_type": "stream",
     "text": [
      "Table created successfully........\n"
     ]
    }
   ],
   "source": [
    "#Creating LOAN table\n",
    "cursor.execute(sql)\n",
    "print(\"Table created successfully........\")"
   ]
  },
  {
   "cell_type": "code",
   "execution_count": 37,
   "id": "66bcbf24-c530-4198-9d07-daeae9fbb5a6",
   "metadata": {},
   "outputs": [],
   "source": [
    "#Droping LOAN_TO_INCOME table if already exists.\n",
    "cursor.execute(\"DROP TABLE IF EXISTS loan_to_income\")"
   ]
  },
  {
   "cell_type": "code",
   "execution_count": 39,
   "id": "c23ab55e-702f-4f21-a73b-a87f749edbaa",
   "metadata": {},
   "outputs": [],
   "source": [
    "#Preparaing query to create LOAN table\n",
    "sql ='''CREATE TABLE loan_to_income(\n",
    "   loan_id CHAR(10),\n",
    "   borrower_id CHAR(11),\n",
    "   loan_amount_to_income FLOAT CHECK(loan_amount_to_income > 0) NOT NULL,\n",
    "   PRIMARY KEY (loan_id, borrower_id),\n",
    "   FOREIGN KEY (borrower_id) REFERENCES borrower(borrower_id),\n",
    "   FOREIGN KEY (loan_id) REFERENCES loan(loan_id)\n",
    ")'''"
   ]
  },
  {
   "cell_type": "code",
   "execution_count": 41,
   "id": "8090968b-4d1e-45eb-a6ce-9882517e1f8e",
   "metadata": {},
   "outputs": [
    {
     "name": "stdout",
     "output_type": "stream",
     "text": [
      "Table created successfully........\n"
     ]
    }
   ],
   "source": [
    "#Creating LOAN table\n",
    "cursor.execute(sql)\n",
    "print(\"Table created successfully........\")"
   ]
  },
  {
   "cell_type": "code",
   "execution_count": 43,
   "id": "a8f5d3e2",
   "metadata": {},
   "outputs": [],
   "source": [
    "#Closing the connection\n",
    "conn.close()"
   ]
  },
  {
   "cell_type": "markdown",
   "id": "b16e663d",
   "metadata": {},
   "source": [
    "### Data Insertion"
   ]
  },
  {
   "cell_type": "code",
   "execution_count": 46,
   "id": "127a00d5-adc7-4ad5-b6e0-d7d49a0ad695",
   "metadata": {},
   "outputs": [],
   "source": [
    "dbname = 'loan_management'\n",
    "user = 'postgres'\n",
    "password = 'simi280498'\n",
    "host = '127.0.0.1'\n",
    "port = '5432'"
   ]
  },
  {
   "cell_type": "code",
   "execution_count": 48,
   "id": "1bc33710-0f4a-4201-aa7a-5402b347b590",
   "metadata": {},
   "outputs": [],
   "source": [
    "#Establishing the connection\n",
    "engine = create_engine(f'postgresql://{user}:{password}@{host}/{dbname}')"
   ]
  },
  {
   "cell_type": "markdown",
   "id": "28410a97-1672-4d42-9a65-e5ca6f0a8af7",
   "metadata": {},
   "source": [
    "#### 1. Inserting data into Borrower Table"
   ]
  },
  {
   "cell_type": "code",
   "execution_count": 51,
   "id": "4abbadba",
   "metadata": {},
   "outputs": [],
   "source": [
    "df = pd.read_excel('Normalized_dataset.xlsx', sheet_name = 'Borrower Table')"
   ]
  },
  {
   "cell_type": "code",
   "execution_count": 53,
   "id": "1fff1479-dc43-45a7-96ca-f840b0e5f789",
   "metadata": {},
   "outputs": [
    {
     "data": {
      "text/html": [
       "<div>\n",
       "<style scoped>\n",
       "    .dataframe tbody tr th:only-of-type {\n",
       "        vertical-align: middle;\n",
       "    }\n",
       "\n",
       "    .dataframe tbody tr th {\n",
       "        vertical-align: top;\n",
       "    }\n",
       "\n",
       "    .dataframe thead th {\n",
       "        text-align: right;\n",
       "    }\n",
       "</style>\n",
       "<table border=\"1\" class=\"dataframe\">\n",
       "  <thead>\n",
       "    <tr style=\"text-align: right;\">\n",
       "      <th></th>\n",
       "      <th>borrower_id</th>\n",
       "      <th>age</th>\n",
       "      <th>income</th>\n",
       "      <th>credit_score</th>\n",
       "      <th>months_employed</th>\n",
       "      <th>num_credit_lines</th>\n",
       "      <th>dti_ratio</th>\n",
       "      <th>education</th>\n",
       "      <th>employment_type</th>\n",
       "      <th>marital_status</th>\n",
       "      <th>income_per_credit_line</th>\n",
       "      <th>has_mortgage</th>\n",
       "      <th>has_dependents</th>\n",
       "      <th>has_cosigner</th>\n",
       "    </tr>\n",
       "  </thead>\n",
       "  <tbody>\n",
       "    <tr>\n",
       "      <th>0</th>\n",
       "      <td>BI38PQUQS96</td>\n",
       "      <td>56</td>\n",
       "      <td>85994</td>\n",
       "      <td>520</td>\n",
       "      <td>80</td>\n",
       "      <td>4</td>\n",
       "      <td>0.44</td>\n",
       "      <td>Bachelor's</td>\n",
       "      <td>Full-time</td>\n",
       "      <td>Divorced</td>\n",
       "      <td>21498.500000</td>\n",
       "      <td>1</td>\n",
       "      <td>1</td>\n",
       "      <td>1</td>\n",
       "    </tr>\n",
       "    <tr>\n",
       "      <th>1</th>\n",
       "      <td>BHPSK72WA7R</td>\n",
       "      <td>69</td>\n",
       "      <td>50432</td>\n",
       "      <td>458</td>\n",
       "      <td>15</td>\n",
       "      <td>1</td>\n",
       "      <td>0.68</td>\n",
       "      <td>Master's</td>\n",
       "      <td>Full-time</td>\n",
       "      <td>Married</td>\n",
       "      <td>50432.000000</td>\n",
       "      <td>0</td>\n",
       "      <td>0</td>\n",
       "      <td>1</td>\n",
       "    </tr>\n",
       "    <tr>\n",
       "      <th>2</th>\n",
       "      <td>BC1OZ6DPJ8Y</td>\n",
       "      <td>46</td>\n",
       "      <td>84208</td>\n",
       "      <td>451</td>\n",
       "      <td>26</td>\n",
       "      <td>3</td>\n",
       "      <td>0.31</td>\n",
       "      <td>Master's</td>\n",
       "      <td>Unemployed</td>\n",
       "      <td>Divorced</td>\n",
       "      <td>28069.333333</td>\n",
       "      <td>1</td>\n",
       "      <td>1</td>\n",
       "      <td>0</td>\n",
       "    </tr>\n",
       "    <tr>\n",
       "      <th>3</th>\n",
       "      <td>BV2KKSFM3UN</td>\n",
       "      <td>32</td>\n",
       "      <td>31713</td>\n",
       "      <td>743</td>\n",
       "      <td>0</td>\n",
       "      <td>3</td>\n",
       "      <td>0.23</td>\n",
       "      <td>High School</td>\n",
       "      <td>Full-time</td>\n",
       "      <td>Married</td>\n",
       "      <td>10571.000000</td>\n",
       "      <td>0</td>\n",
       "      <td>0</td>\n",
       "      <td>0</td>\n",
       "    </tr>\n",
       "    <tr>\n",
       "      <th>4</th>\n",
       "      <td>BEY08JDHTZP</td>\n",
       "      <td>60</td>\n",
       "      <td>20437</td>\n",
       "      <td>633</td>\n",
       "      <td>8</td>\n",
       "      <td>4</td>\n",
       "      <td>0.73</td>\n",
       "      <td>Bachelor's</td>\n",
       "      <td>Unemployed</td>\n",
       "      <td>Divorced</td>\n",
       "      <td>5109.250000</td>\n",
       "      <td>0</td>\n",
       "      <td>1</td>\n",
       "      <td>0</td>\n",
       "    </tr>\n",
       "  </tbody>\n",
       "</table>\n",
       "</div>"
      ],
      "text/plain": [
       "   borrower_id  age  income  credit_score  months_employed  num_credit_lines  \\\n",
       "0  BI38PQUQS96   56   85994           520               80                 4   \n",
       "1  BHPSK72WA7R   69   50432           458               15                 1   \n",
       "2  BC1OZ6DPJ8Y   46   84208           451               26                 3   \n",
       "3  BV2KKSFM3UN   32   31713           743                0                 3   \n",
       "4  BEY08JDHTZP   60   20437           633                8                 4   \n",
       "\n",
       "   dti_ratio    education employment_type marital_status  \\\n",
       "0       0.44   Bachelor's       Full-time       Divorced   \n",
       "1       0.68     Master's       Full-time        Married   \n",
       "2       0.31     Master's      Unemployed       Divorced   \n",
       "3       0.23  High School       Full-time        Married   \n",
       "4       0.73   Bachelor's      Unemployed       Divorced   \n",
       "\n",
       "   income_per_credit_line  has_mortgage  has_dependents  has_cosigner  \n",
       "0            21498.500000             1               1             1  \n",
       "1            50432.000000             0               0             1  \n",
       "2            28069.333333             1               1             0  \n",
       "3            10571.000000             0               0             0  \n",
       "4             5109.250000             0               1             0  "
      ]
     },
     "execution_count": 53,
     "metadata": {},
     "output_type": "execute_result"
    }
   ],
   "source": [
    "df.head()"
   ]
  },
  {
   "cell_type": "code",
   "execution_count": 55,
   "id": "27c97b0b-fee5-440b-a192-146dbdf99853",
   "metadata": {},
   "outputs": [
    {
     "name": "stdout",
     "output_type": "stream",
     "text": [
      "Data inserted successfully!\n"
     ]
    }
   ],
   "source": [
    "df.to_sql('borrower', engine, if_exists='append', index=False)\n",
    "\n",
    "print(\"Data inserted successfully!\")"
   ]
  },
  {
   "cell_type": "markdown",
   "id": "02deb9d9-03f5-4be5-8765-a71fe942b5c4",
   "metadata": {},
   "source": [
    "#### 2. Inserting data into Loan Table"
   ]
  },
  {
   "cell_type": "code",
   "execution_count": 58,
   "id": "1069bcf9-8109-4f91-9eb5-4036bcefef6d",
   "metadata": {},
   "outputs": [],
   "source": [
    "df = pd.read_excel('Normalized_dataset.xlsx', sheet_name = 'Loan Table')"
   ]
  },
  {
   "cell_type": "code",
   "execution_count": 60,
   "id": "97b85bb5-66a3-4d72-b5f8-b1165f2946f3",
   "metadata": {},
   "outputs": [
    {
     "data": {
      "text/html": [
       "<div>\n",
       "<style scoped>\n",
       "    .dataframe tbody tr th:only-of-type {\n",
       "        vertical-align: middle;\n",
       "    }\n",
       "\n",
       "    .dataframe tbody tr th {\n",
       "        vertical-align: top;\n",
       "    }\n",
       "\n",
       "    .dataframe thead th {\n",
       "        text-align: right;\n",
       "    }\n",
       "</style>\n",
       "<table border=\"1\" class=\"dataframe\">\n",
       "  <thead>\n",
       "    <tr style=\"text-align: right;\">\n",
       "      <th></th>\n",
       "      <th>loan_id</th>\n",
       "      <th>loan_amount</th>\n",
       "      <th>interest_rate</th>\n",
       "      <th>loan_term</th>\n",
       "      <th>loan_purpose</th>\n",
       "      <th>defaulter</th>\n",
       "    </tr>\n",
       "  </thead>\n",
       "  <tbody>\n",
       "    <tr>\n",
       "      <th>0</th>\n",
       "      <td>I38PQUQS96</td>\n",
       "      <td>50587</td>\n",
       "      <td>15.23</td>\n",
       "      <td>36</td>\n",
       "      <td>Other</td>\n",
       "      <td>0</td>\n",
       "    </tr>\n",
       "    <tr>\n",
       "      <th>1</th>\n",
       "      <td>HPSK72WA7R</td>\n",
       "      <td>124440</td>\n",
       "      <td>4.81</td>\n",
       "      <td>60</td>\n",
       "      <td>Other</td>\n",
       "      <td>0</td>\n",
       "    </tr>\n",
       "    <tr>\n",
       "      <th>2</th>\n",
       "      <td>C1OZ6DPJ8Y</td>\n",
       "      <td>129188</td>\n",
       "      <td>21.17</td>\n",
       "      <td>24</td>\n",
       "      <td>Auto</td>\n",
       "      <td>1</td>\n",
       "    </tr>\n",
       "    <tr>\n",
       "      <th>3</th>\n",
       "      <td>V2KKSFM3UN</td>\n",
       "      <td>44799</td>\n",
       "      <td>7.07</td>\n",
       "      <td>24</td>\n",
       "      <td>Business</td>\n",
       "      <td>0</td>\n",
       "    </tr>\n",
       "    <tr>\n",
       "      <th>4</th>\n",
       "      <td>EY08JDHTZP</td>\n",
       "      <td>9139</td>\n",
       "      <td>6.51</td>\n",
       "      <td>48</td>\n",
       "      <td>Auto</td>\n",
       "      <td>0</td>\n",
       "    </tr>\n",
       "  </tbody>\n",
       "</table>\n",
       "</div>"
      ],
      "text/plain": [
       "      loan_id  loan_amount  interest_rate  loan_term loan_purpose  defaulter\n",
       "0  I38PQUQS96        50587          15.23         36        Other          0\n",
       "1  HPSK72WA7R       124440           4.81         60        Other          0\n",
       "2  C1OZ6DPJ8Y       129188          21.17         24         Auto          1\n",
       "3  V2KKSFM3UN        44799           7.07         24     Business          0\n",
       "4  EY08JDHTZP         9139           6.51         48         Auto          0"
      ]
     },
     "execution_count": 60,
     "metadata": {},
     "output_type": "execute_result"
    }
   ],
   "source": [
    "df.head()"
   ]
  },
  {
   "cell_type": "code",
   "execution_count": 62,
   "id": "4dde9d53-db49-4179-91e3-e0f3033d4b1a",
   "metadata": {},
   "outputs": [
    {
     "name": "stdout",
     "output_type": "stream",
     "text": [
      "Data inserted successfully!\n"
     ]
    }
   ],
   "source": [
    "df.to_sql('loan', engine, if_exists='append', index=False)\n",
    "\n",
    "print(\"Data inserted successfully!\")"
   ]
  },
  {
   "cell_type": "markdown",
   "id": "52fdc250-18cf-420a-84db-16a5bd6c6bc6",
   "metadata": {},
   "source": [
    "#### 3. Inserting data into Loan_to_income Table"
   ]
  },
  {
   "cell_type": "code",
   "execution_count": 65,
   "id": "b5104725-3753-4837-9300-e9bc836c6ebc",
   "metadata": {},
   "outputs": [],
   "source": [
    "df = pd.read_excel('Normalized_dataset.xlsx', sheet_name = 'Loan_to_Income Table')"
   ]
  },
  {
   "cell_type": "code",
   "execution_count": 67,
   "id": "bf402280-d326-43b1-b012-65fe90667d1e",
   "metadata": {},
   "outputs": [
    {
     "data": {
      "text/html": [
       "<div>\n",
       "<style scoped>\n",
       "    .dataframe tbody tr th:only-of-type {\n",
       "        vertical-align: middle;\n",
       "    }\n",
       "\n",
       "    .dataframe tbody tr th {\n",
       "        vertical-align: top;\n",
       "    }\n",
       "\n",
       "    .dataframe thead th {\n",
       "        text-align: right;\n",
       "    }\n",
       "</style>\n",
       "<table border=\"1\" class=\"dataframe\">\n",
       "  <thead>\n",
       "    <tr style=\"text-align: right;\">\n",
       "      <th></th>\n",
       "      <th>loan_id</th>\n",
       "      <th>borrower_id</th>\n",
       "      <th>loan_amount_to_income</th>\n",
       "    </tr>\n",
       "  </thead>\n",
       "  <tbody>\n",
       "    <tr>\n",
       "      <th>0</th>\n",
       "      <td>I38PQUQS96</td>\n",
       "      <td>BI38PQUQS96</td>\n",
       "      <td>0.588262</td>\n",
       "    </tr>\n",
       "    <tr>\n",
       "      <th>1</th>\n",
       "      <td>HPSK72WA7R</td>\n",
       "      <td>BHPSK72WA7R</td>\n",
       "      <td>2.467481</td>\n",
       "    </tr>\n",
       "    <tr>\n",
       "      <th>2</th>\n",
       "      <td>C1OZ6DPJ8Y</td>\n",
       "      <td>BC1OZ6DPJ8Y</td>\n",
       "      <td>1.534154</td>\n",
       "    </tr>\n",
       "    <tr>\n",
       "      <th>3</th>\n",
       "      <td>V2KKSFM3UN</td>\n",
       "      <td>BV2KKSFM3UN</td>\n",
       "      <td>1.412638</td>\n",
       "    </tr>\n",
       "    <tr>\n",
       "      <th>4</th>\n",
       "      <td>EY08JDHTZP</td>\n",
       "      <td>BEY08JDHTZP</td>\n",
       "      <td>0.447179</td>\n",
       "    </tr>\n",
       "  </tbody>\n",
       "</table>\n",
       "</div>"
      ],
      "text/plain": [
       "      loan_id  borrower_id  loan_amount_to_income\n",
       "0  I38PQUQS96  BI38PQUQS96               0.588262\n",
       "1  HPSK72WA7R  BHPSK72WA7R               2.467481\n",
       "2  C1OZ6DPJ8Y  BC1OZ6DPJ8Y               1.534154\n",
       "3  V2KKSFM3UN  BV2KKSFM3UN               1.412638\n",
       "4  EY08JDHTZP  BEY08JDHTZP               0.447179"
      ]
     },
     "execution_count": 67,
     "metadata": {},
     "output_type": "execute_result"
    }
   ],
   "source": [
    "df.head()"
   ]
  },
  {
   "cell_type": "code",
   "execution_count": 69,
   "id": "92293794-5907-4141-a6f5-7d2ab0eee60b",
   "metadata": {},
   "outputs": [
    {
     "name": "stdout",
     "output_type": "stream",
     "text": [
      "Data inserted successfully!\n"
     ]
    }
   ],
   "source": [
    "df.to_sql('loan_to_income', engine, if_exists='append', index=False)\n",
    "\n",
    "print(\"Data inserted successfully!\")"
   ]
  },
  {
   "cell_type": "code",
   "execution_count": 71,
   "id": "71218349-25b7-40eb-89fb-bac95449a610",
   "metadata": {},
   "outputs": [],
   "source": [
    "engine.dispose()"
   ]
  },
  {
   "cell_type": "code",
   "execution_count": null,
   "id": "2af6d281-7ed0-4954-b0dd-4a88898d7359",
   "metadata": {},
   "outputs": [],
   "source": []
  }
 ],
 "metadata": {
  "kernelspec": {
   "display_name": "Python 3 (ipykernel)",
   "language": "python",
   "name": "python3"
  },
  "language_info": {
   "codemirror_mode": {
    "name": "ipython",
    "version": 3
   },
   "file_extension": ".py",
   "mimetype": "text/x-python",
   "name": "python",
   "nbconvert_exporter": "python",
   "pygments_lexer": "ipython3",
   "version": "3.12.4"
  }
 },
 "nbformat": 4,
 "nbformat_minor": 5
}
